{
 "cells": [
  {
   "cell_type": "markdown",
   "metadata": {},
   "source": [
    "### Importing the main FreshWorks_CRDpy1 python file as a pakage as fw for testing\n",
    "\n"
   ]
  },
  {
   "cell_type": "code",
   "execution_count": 11,
   "metadata": {},
   "outputs": [],
   "source": [
    "import FreshWorks_CRDpy1 as fw"
   ]
  },
  {
   "cell_type": "markdown",
   "metadata": {},
   "source": [
    "### Performing testing for Create, Read and Delete opearations on the datafile."
   ]
  },
  {
   "cell_type": "code",
   "execution_count": 8,
   "metadata": {},
   "outputs": [
    {
     "name": "stdout",
     "output_type": "stream",
     "text": [
      "AppleInc Your key is Successfully Created!!\n",
      "Your current data store is--->\n",
      "\n",
      "{'Chennai': [50, 0], 'Mumbai': [65, 0], 'Jobs': [10, 0], 'Amazon': [5, 0], 'Reliance': [30, 0], 'Freshworks': [95, 0], 'Oracle': [20, 0], 'Microsoft': [15, 1606848325.3972802], 'Deloitte': [25, 0], 'Freshwork': [90, 0], 'Locations': [2, 0], 'TotalJobOffers': [8, 0], 'AppleInc': [35, 0]}\n"
     ]
    }
   ],
   "source": [
    "fw.DataFile_Creation(\"AppleInc\",35)"
   ]
  },
  {
   "cell_type": "code",
   "execution_count": 13,
   "metadata": {},
   "outputs": [
    {
     "name": "stdout",
     "output_type": "stream",
     "text": [
      "------There is an Error as->  Mumbai  pre-exists in the Datafile-----\n",
      "Your current data store is--->\n",
      "\n",
      "{'Chennai': [50, 0], 'Mumbai': [65, 0], 'Jobs': [10, 0], 'Amazon': [5, 0], 'Reliance': [30, 0], 'Freshworks': [95, 0], 'Oracle': [20, 0], 'Microsoft': [15, 1606848325.3972802], 'Deloitte': [25, 0], 'Freshwork': [90, 0], 'Locations': [2, 0], 'TotalJobOffers': [8, 0], 'AppleInc': [35, 0]}\n"
     ]
    }
   ],
   "source": [
    "fw.DataFile_Creation(\"Mumbai\",65)\n",
    "#will throw an error as key given already present in datastore"
   ]
  },
  {
   "cell_type": "code",
   "execution_count": 14,
   "metadata": {},
   "outputs": [
    {
     "name": "stdout",
     "output_type": "stream",
     "text": [
      "Samsung Your key is Successfully Created!!\n",
      "Your current data store is--->\n",
      "\n",
      "{'Chennai': [50, 0], 'Mumbai': [65, 0], 'Jobs': [10, 0], 'Amazon': [5, 0], 'Reliance': [30, 0], 'Freshworks': [95, 0], 'Oracle': [20, 0], 'Microsoft': [15, 1606848325.3972802], 'Deloitte': [25, 0], 'Freshwork': [90, 0], 'Locations': [2, 0], 'TotalJobOffers': [8, 0], 'AppleInc': [35, 0], 'Samsung': [100, 0]}\n"
     ]
    }
   ],
   "source": [
    "fw.DataFile_Creation(\"Samsung\",100)"
   ]
  },
  {
   "cell_type": "code",
   "execution_count": 21,
   "metadata": {},
   "outputs": [
    {
     "name": "stdout",
     "output_type": "stream",
     "text": [
      "OOPs There is an Error as ---> Your Key memory limit in the file has exceeded!!\n",
      "Your current data store is--->\n",
      "\n",
      "{'Chennai': [50, 0], 'Mumbai': [65, 0], 'Jobs': [10, 0], 'Amazon': [5, 0], 'Reliance': [30, 0], 'Freshworks': [95, 0], 'Oracle': [20, 0], 'Microsoft': [15, 1606848325.3972802], 'Deloitte': [25, 0], 'Freshwork': [90, 0], 'Locations': [2, 0], 'TotalJobOffers': [8, 0], 'AppleInc': [35, 0], 'Samsung': [100, 0]}\n"
     ]
    }
   ],
   "source": [
    "fw.DataFile_Creation(\"Pakage\",120000000)"
   ]
  },
  {
   "cell_type": "code",
   "execution_count": 22,
   "metadata": {},
   "outputs": [
    {
     "name": "stdout",
     "output_type": "stream",
     "text": [
      "PakageIs Your key is Successfully Created!!\n",
      "Your current data store is--->\n",
      "\n",
      "{'Chennai': [50, 0], 'Mumbai': [65, 0], 'Jobs': [10, 0], 'Amazon': [5, 0], 'Reliance': [30, 0], 'Freshworks': [95, 0], 'Oracle': [20, 0], 'Microsoft': [15, 1606848325.3972802], 'Deloitte': [25, 0], 'Freshwork': [90, 0], 'Locations': [2, 0], 'TotalJobOffers': [8, 0], 'AppleInc': [35, 0], 'Samsung': [100, 0], 'PakageIs': [550000, 0]}\n"
     ]
    }
   ],
   "source": [
    "fw.DataFile_Creation(\"PakageIs\",550000)"
   ]
  },
  {
   "cell_type": "markdown",
   "metadata": {},
   "source": [
    "### For Reading the Key object abd returning its Value if present in the DataStore."
   ]
  },
  {
   "cell_type": "code",
   "execution_count": 25,
   "metadata": {},
   "outputs": [
    {
     "name": "stdout",
     "output_type": "stream",
     "text": [
      "READING THE INPUT KEY OBJET------\n",
      "Freshworks:95 Is the merit of key Freshworks\n"
     ]
    }
   ],
   "source": [
    "fw.DataFile_Read(\"Freshworks\")"
   ]
  },
  {
   "cell_type": "code",
   "execution_count": 26,
   "metadata": {},
   "outputs": [
    {
     "name": "stdout",
     "output_type": "stream",
     "text": [
      "READING THE INPUT KEY OBJET------\n",
      "Chennai:50 Is the merit of key Chennai\n"
     ]
    }
   ],
   "source": [
    "fw.DataFile_Read(\"Chennai\")"
   ]
  },
  {
   "cell_type": "code",
   "execution_count": 29,
   "metadata": {},
   "outputs": [
    {
     "name": "stdout",
     "output_type": "stream",
     "text": [
      "READING THE INPUT KEY OBJET------\n",
      "---THERE IS AN ERROR---\n",
      "--- KEY ENTERED NOT FOUND IN THE DATABASE, PLEASE ENTER A CORRECT KEY---\n"
     ]
    }
   ],
   "source": [
    "fw.DataFile_Read(\"Delhi\")\n",
    "# This will throw an error as no such key is present and will not able to read from DataStore "
   ]
  },
  {
   "cell_type": "code",
   "execution_count": 30,
   "metadata": {},
   "outputs": [
    {
     "name": "stdout",
     "output_type": "stream",
     "text": [
      "READING THE INPUT KEY OBJET------\n",
      "Jobs:10 Is the merit of key Jobs\n"
     ]
    }
   ],
   "source": [
    "fw.DataFile_Read(\"Jobs\")"
   ]
  },
  {
   "cell_type": "markdown",
   "metadata": {},
   "source": [
    "### For Deleting a key from the existing DataFile"
   ]
  },
  {
   "cell_type": "code",
   "execution_count": 31,
   "metadata": {},
   "outputs": [
    {
     "name": "stdout",
     "output_type": "stream",
     "text": [
      "DELETING THE GIVEN OBJECT FROM DATAFILE----->\n",
      "Your given key Samsung  has been deleted successfully!! \n",
      "\n",
      "Your current data store is--->\n",
      "\n",
      "{'Chennai': [50, 0], 'Mumbai': [65, 0], 'Jobs': [10, 0], 'Amazon': [5, 0], 'Reliance': [30, 0], 'Freshworks': [95, 0], 'Oracle': [20, 0], 'Microsoft': [15, 1606848325.3972802], 'Deloitte': [25, 0], 'Freshwork': [90, 0], 'Locations': [2, 0], 'TotalJobOffers': [8, 0], 'AppleInc': [35, 0], 'PakageIs': [550000, 0]}\n"
     ]
    }
   ],
   "source": [
    "fw.DataFile_Deletion(\"Samsung\")"
   ]
  },
  {
   "cell_type": "code",
   "execution_count": 34,
   "metadata": {},
   "outputs": [
    {
     "name": "stdout",
     "output_type": "stream",
     "text": [
      "DELETING THE GIVEN OBJECT FROM DATAFILE----->\n",
      "There is an Error with given key-->Key not present in datafile ----> please enter a valid key present\n"
     ]
    }
   ],
   "source": [
    "fw.DataFile_Deletion(\"Kolkata\")\n",
    "\n",
    "#This will throw an error as Kolkata named key does not exist in the DataFile Created. "
   ]
  },
  {
   "cell_type": "code",
   "execution_count": 36,
   "metadata": {},
   "outputs": [
    {
     "name": "stdout",
     "output_type": "stream",
     "text": [
      "DELETING THE GIVEN OBJECT FROM DATAFILE----->\n",
      "There is an Error with given key-->Time of the given key  Microsoft  has expired\n"
     ]
    }
   ],
   "source": [
    "fw.DataFile_Deletion(\"Microsoft\")\n",
    "\n",
    "#This will throw an error as time limit has expired as in given value parameters of this key as(time.time()>z[1])"
   ]
  },
  {
   "cell_type": "code",
   "execution_count": 37,
   "metadata": {},
   "outputs": [
    {
     "name": "stdout",
     "output_type": "stream",
     "text": [
      "DELETING THE GIVEN OBJECT FROM DATAFILE----->\n",
      "Your given key Deloitte  has been deleted successfully!! \n",
      "\n",
      "Your current data store is--->\n",
      "\n",
      "{'Chennai': [50, 0], 'Mumbai': [65, 0], 'Jobs': [10, 0], 'Amazon': [5, 0], 'Reliance': [30, 0], 'Freshworks': [95, 0], 'Oracle': [20, 0], 'Microsoft': [15, 1606848325.3972802], 'Freshwork': [90, 0], 'Locations': [2, 0], 'TotalJobOffers': [8, 0], 'AppleInc': [35, 0], 'PakageIs': [550000, 0]}\n"
     ]
    }
   ],
   "source": [
    "fw.DataFile_Deletion(\"Deloitte\")"
   ]
  },
  {
   "cell_type": "code",
   "execution_count": null,
   "metadata": {},
   "outputs": [],
   "source": []
  }
 ],
 "metadata": {
  "kernelspec": {
   "display_name": "Python 3",
   "language": "python",
   "name": "python3"
  }
 },
 "nbformat": 4,
 "nbformat_minor": 2
}
